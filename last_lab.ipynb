{
  "nbformat": 4,
  "nbformat_minor": 0,
  "metadata": {
    "colab": {
      "provenance": [],
      "authorship_tag": "ABX9TyMeUSR34BXiAtK6Gi/AMSiA",
      "include_colab_link": true
    },
    "kernelspec": {
      "name": "python3",
      "display_name": "Python 3"
    },
    "language_info": {
      "name": "python"
    }
  },
  "cells": [
    {
      "cell_type": "markdown",
      "metadata": {
        "id": "view-in-github",
        "colab_type": "text"
      },
      "source": [
        "<a href=\"https://colab.research.google.com/github/fatimaabuhamdeh/deep/blob/main/last_lab.ipynb\" target=\"_parent\"><img src=\"https://colab.research.google.com/assets/colab-badge.svg\" alt=\"Open In Colab\"/></a>"
      ]
    },
    {
      "cell_type": "code",
      "execution_count": 1,
      "metadata": {
        "id": "7zZ-7VG-WFdQ"
      },
      "outputs": [],
      "source": [
        "import numpy as np\n",
        "import pandas as pd\n",
        "import tensorflow as tf"
      ]
    },
    {
      "cell_type": "code",
      "source": [
        "data = pd.read_csv('/content/Train.csv')\n",
        "X=data.iloc[:,0:-1].values\n",
        "y=data.iloc[:,-1].values"
      ],
      "metadata": {
        "id": "mCTyQ6dMXPq_"
      },
      "execution_count": 18,
      "outputs": []
    },
    {
      "cell_type": "code",
      "source": [
        "from sklearn.model_selection import train_test_split\n",
        "X_train, X_test, y_train, y_test = train_test_split(X, y, test_size=0.2, random_state=10)"
      ],
      "metadata": {
        "id": "RB0WBdIkXsDP"
      },
      "execution_count": 26,
      "outputs": []
    },
    {
      "cell_type": "code",
      "source": [
        "from sklearn.preprocessing import StandardScaler\n",
        "sc=StandardScaler()\n",
        "X_train=sc.fit_transform(X_train)\n",
        "X_test=sc.transform(X_test)"
      ],
      "metadata": {
        "id": "9QH7X-pvY1AH"
      },
      "execution_count": 27,
      "outputs": []
    },
    {
      "cell_type": "code",
      "source": [
        "ann=tf.keras.models.Sequential()"
      ],
      "metadata": {
        "id": "Ue_st-IobCAo"
      },
      "execution_count": 28,
      "outputs": []
    },
    {
      "cell_type": "code",
      "source": [
        "ann.add(tf.keras.layers.Dense(units=4,activation='relu'))"
      ],
      "metadata": {
        "id": "1LbkUPjIbnMA"
      },
      "execution_count": 29,
      "outputs": []
    },
    {
      "cell_type": "code",
      "source": [
        "ann.add(tf.keras.layers.Dense(units=4,activation='relu'))"
      ],
      "metadata": {
        "id": "UE8Bn2ChcCF8"
      },
      "execution_count": 30,
      "outputs": []
    },
    {
      "cell_type": "code",
      "source": [
        "ann.add(tf.keras.layers.Dense(units=1,activation='sigmoid'))"
      ],
      "metadata": {
        "id": "sqnPpLyzcLeP"
      },
      "execution_count": 31,
      "outputs": []
    },
    {
      "cell_type": "code",
      "source": [
        "ann.compile(optimizer='adam',loss='binary_crossentropy',metrics=['accuracy'])"
      ],
      "metadata": {
        "id": "aiA1ZsROcUxv"
      },
      "execution_count": 32,
      "outputs": []
    },
    {
      "cell_type": "code",
      "source": [
        "ann.fit(X_train,y_train,batch_size=50,epochs=10)"
      ],
      "metadata": {
        "colab": {
          "base_uri": "https://localhost:8080/"
        },
        "id": "W2IM9wGvcre4",
        "outputId": "3a17b3da-90c7-4036-9551-86fb8129f5bf"
      },
      "execution_count": 33,
      "outputs": [
        {
          "output_type": "stream",
          "name": "stdout",
          "text": [
            "Epoch 1/10\n",
            "543/543 [==============================] - 2s 2ms/step - loss: 0.5267 - accuracy: 0.7861\n",
            "Epoch 2/10\n",
            "543/543 [==============================] - 1s 2ms/step - loss: 0.3088 - accuracy: 0.8853\n",
            "Epoch 3/10\n",
            "543/543 [==============================] - 2s 3ms/step - loss: 0.2668 - accuracy: 0.8875\n",
            "Epoch 4/10\n",
            "543/543 [==============================] - 2s 3ms/step - loss: 0.2570 - accuracy: 0.8888\n",
            "Epoch 5/10\n",
            "543/543 [==============================] - 1s 3ms/step - loss: 0.2511 - accuracy: 0.8910\n",
            "Epoch 6/10\n",
            "543/543 [==============================] - 1s 2ms/step - loss: 0.2470 - accuracy: 0.8912\n",
            "Epoch 7/10\n",
            "543/543 [==============================] - 1s 2ms/step - loss: 0.2445 - accuracy: 0.8916\n",
            "Epoch 8/10\n",
            "543/543 [==============================] - 1s 2ms/step - loss: 0.2430 - accuracy: 0.8923\n",
            "Epoch 9/10\n",
            "543/543 [==============================] - 1s 2ms/step - loss: 0.2420 - accuracy: 0.8936\n",
            "Epoch 10/10\n",
            "543/543 [==============================] - 1s 2ms/step - loss: 0.2412 - accuracy: 0.8950\n"
          ]
        },
        {
          "output_type": "execute_result",
          "data": {
            "text/plain": [
              "<keras.src.callbacks.History at 0x7f4854709450>"
            ]
          },
          "metadata": {},
          "execution_count": 33
        }
      ]
    },
    {
      "cell_type": "code",
      "source": [
        "y_pred=ann.predict(X_test)\n",
        "y_pred=(y_pred>0.5)\n",
        "y_pred=y_pred.astype(int)"
      ],
      "metadata": {
        "colab": {
          "base_uri": "https://localhost:8080/"
        },
        "id": "frqkAtYPdHjg",
        "outputId": "39753c1f-7ef4-47c2-f066-bd0075de888e"
      },
      "execution_count": 34,
      "outputs": [
        {
          "output_type": "stream",
          "name": "stdout",
          "text": [
            "212/212 [==============================] - 1s 5ms/step\n"
          ]
        }
      ]
    },
    {
      "cell_type": "code",
      "source": [
        "from sklearn.metrics import confusion_matrix, accuracy_score\n",
        "cm=confusion_matrix(y_test,y_pred)\n",
        "print(cm)"
      ],
      "metadata": {
        "colab": {
          "base_uri": "https://localhost:8080/"
        },
        "id": "VC19IW_SeEF4",
        "outputId": "dd1c66c5-f0a7-49b7-a11d-7e1247d5857e"
      },
      "execution_count": 35,
      "outputs": [
        {
          "output_type": "stream",
          "name": "stdout",
          "text": [
            "[[5745  200]\n",
            " [ 527  310]]\n"
          ]
        }
      ]
    },
    {
      "cell_type": "code",
      "source": [
        "accuracy_score(y_test,y_pred)"
      ],
      "metadata": {
        "colab": {
          "base_uri": "https://localhost:8080/"
        },
        "id": "PvFuSFLdelXY",
        "outputId": "e308da01-811b-442e-cf6c-4099bd17eb5d"
      },
      "execution_count": 36,
      "outputs": [
        {
          "output_type": "execute_result",
          "data": {
            "text/plain": [
              "0.8928044824535535"
            ]
          },
          "metadata": {},
          "execution_count": 36
        }
      ]
    },
    {
      "cell_type": "code",
      "source": [],
      "metadata": {
        "id": "A4nY54W4etdI"
      },
      "execution_count": null,
      "outputs": []
    }
  ]
}