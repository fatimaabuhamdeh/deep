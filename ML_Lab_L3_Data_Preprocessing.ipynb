{
  "nbformat": 4,
  "nbformat_minor": 0,
  "metadata": {
    "colab": {
      "provenance": [],
      "include_colab_link": true
    },
    "kernelspec": {
      "name": "python3",
      "display_name": "Python 3"
    },
    "language_info": {
      "name": "python"
    }
  },
  "cells": [
    {
      "cell_type": "markdown",
      "metadata": {
        "id": "view-in-github",
        "colab_type": "text"
      },
      "source": [
        "<a href=\"https://colab.research.google.com/github/fatimaabuhamdeh/deep/blob/main/ML_Lab_L3_Data_Preprocessing.ipynb\" target=\"_parent\"><img src=\"https://colab.research.google.com/assets/colab-badge.svg\" alt=\"Open In Colab\"/></a>"
      ]
    },
    {
      "cell_type": "markdown",
      "source": [
        "\n",
        "Steps in Data Preprocessing:\n",
        "\n",
        "\n",
        "1.   Importing the libraries\n",
        "2.   Importing the dataset\n",
        "3.   Drop Duplicate data\n",
        "4.   Taking care of missing data\n",
        "5.   Encoding categorical data\n",
        "6.   Normalizing the data\n",
        "7. Handling Imbalance data\n",
        "8.   Splitting the data into test and train\n",
        "\n"
      ],
      "metadata": {
        "id": "LvhIKQwggWlS"
      }
    },
    {
      "cell_type": "markdown",
      "source": [
        "Step 1: Importing the libraries\n",
        "\n",
        "In the beginning, we’ll import three basic libraries which are very common in machine learning and will be used every time you train a model\n",
        "\n",
        "NumPy:- it is a library that allows us to work with arrays and as most machine learning models work on arrays NumPy makes it easier\n",
        "\n",
        "matplotlib:- this library helps in plotting graphs and charts, which are very useful while showing the result of your model\n",
        "\n",
        "Pandas:- pandas allows us to import our dataset and also creates a matrix of features containing the dependent and independent variable (iloc[]).\n",
        "\n",
        "\n"
      ],
      "metadata": {
        "id": "Gfu19aulhPcd"
      }
    },
    {
      "cell_type": "code",
      "source": [
        "import numpy as np\n",
        "import matplotlib.pyplot as plt\n",
        "import pandas as pd"
      ],
      "metadata": {
        "id": "9l3LhQzNhoPX"
      },
      "execution_count": null,
      "outputs": []
    },
    {
      "cell_type": "code",
      "source": [
        "# Step 2: Importing the dataset\n",
        "\n",
        "# Download dataset from : https://github.com/suneet10/DataPreprocessing/blob/main/Data.csv\n",
        "\n",
        "df = pd.read_csv('Data.csv')\n",
        "print (df)"
      ],
      "metadata": {
        "id": "j-xeXJnThsBq",
        "colab": {
          "base_uri": "https://localhost:8080/"
        },
        "outputId": "24bf121d-5a59-40c0-fdf4-cdb2b1a40df0"
      },
      "execution_count": null,
      "outputs": [
        {
          "output_type": "stream",
          "name": "stdout",
          "text": [
            "   Country   Age   Salary Purchased\n",
            "0   France  44.0  72000.0        No\n",
            "1    Spain  27.0  48000.0       Yes\n",
            "2  Germany  30.0  54000.0        No\n",
            "3    Spain  38.0  61000.0        No\n",
            "4  Germany  40.0      NaN       Yes\n",
            "5   France  35.0  58000.0       Yes\n",
            "6    Spain   NaN  52000.0        No\n",
            "7   France  48.0  79000.0       Yes\n",
            "8  Germany  50.0  83000.0        No\n",
            "9   France  37.0  67000.0       Yes\n"
          ]
        }
      ]
    },
    {
      "cell_type": "code",
      "source": [
        "df = df.dropna(axis=0)    #بشيل ال row يلي فيه null (nan)\n",
        "print(df)"
      ],
      "metadata": {
        "colab": {
          "base_uri": "https://localhost:8080/"
        },
        "id": "GRho5gWT9fLF",
        "outputId": "fb706f45-1687-4fd0-be38-2b1acfdf2ac5"
      },
      "execution_count": null,
      "outputs": [
        {
          "output_type": "stream",
          "name": "stdout",
          "text": [
            "   Country   Age   Salary Purchased\n",
            "0   France  44.0  72000.0        No\n",
            "1    Spain  27.0  48000.0       Yes\n",
            "2  Germany  30.0  54000.0        No\n",
            "3    Spain  38.0  61000.0        No\n",
            "5   France  35.0  58000.0       Yes\n",
            "7   France  48.0  79000.0       Yes\n",
            "8  Germany  50.0  83000.0        No\n",
            "9   France  37.0  67000.0       Yes\n"
          ]
        }
      ]
    },
    {
      "cell_type": "code",
      "source": [
        "df.info()"
      ],
      "metadata": {
        "colab": {
          "base_uri": "https://localhost:8080/"
        },
        "id": "f3w4Tbd41jG2",
        "outputId": "fd70208b-f25c-41a3-a627-b494d0e20e7a"
      },
      "execution_count": null,
      "outputs": [
        {
          "output_type": "stream",
          "name": "stdout",
          "text": [
            "<class 'pandas.core.frame.DataFrame'>\n",
            "RangeIndex: 10 entries, 0 to 9\n",
            "Data columns (total 4 columns):\n",
            " #   Column     Non-Null Count  Dtype  \n",
            "---  ------     --------------  -----  \n",
            " 0   Country    10 non-null     object \n",
            " 1   Age        9 non-null      float64\n",
            " 2   Salary     9 non-null      float64\n",
            " 3   Purchased  10 non-null     object \n",
            "dtypes: float64(2), object(2)\n",
            "memory usage: 448.0+ bytes\n"
          ]
        }
      ]
    },
    {
      "cell_type": "code",
      "source": [
        "#Show duplicated rows\n",
        "df.duplicated().sum()"
      ],
      "metadata": {
        "colab": {
          "base_uri": "https://localhost:8080/"
        },
        "id": "Jo1FZ6RN2Ra1",
        "outputId": "07e1b65c-047b-4f1e-e9dc-cee202fb7888"
      },
      "execution_count": null,
      "outputs": [
        {
          "output_type": "execute_result",
          "data": {
            "text/plain": [
              "0"
            ]
          },
          "metadata": {},
          "execution_count": 4
        }
      ]
    },
    {
      "cell_type": "code",
      "source": [
        "# Remove duplicate\n",
        "df = df.drop_duplicates()\n",
        "\n",
        "# or df.drop_duplicates(inplace = True)"
      ],
      "metadata": {
        "id": "YtXWCz1O3YLW"
      },
      "execution_count": null,
      "outputs": []
    },
    {
      "cell_type": "markdown",
      "source": [
        "**Step 3: Handling the missing values**\n",
        "\n",
        "Handling missing data is a crucial step in data preprocessing because many machine learning algorithms cannot handle missing values. Here are some additional information and techniques for dealing with missing data:\n",
        "\n",
        "\n",
        "**Identifying Missing Data:**\n",
        "\n",
        "Before you can handle missing data, you need to identify where it exists in your dataset. Common representations of missing data include NaN (Not a Number) in numerical data or a specific placeholder (e.g., \"NA\" or \"null\") in categorical data.\n",
        "\n",
        "**Understanding the Nature of Missingness:**\n",
        "\n",
        "It's important to understand why data is missing.\n",
        "\n",
        "**How to Handle Missing data :**\n",
        "\n",
        "- Removing Rows with Missing Values: One straightforward approach is to simply remove the rows that contain missing values. However, this should be done with caution, as it can lead to loss of valuable information.\n",
        "\n",
        "- Imputation: Imputation involves filling in the missing values with estimated or calculated values. There are various techniques for imputation:\n",
        "\n",
        "  1- Mean/Median Imputation: Replace missing values with the mean (for numerical data) or median (less sensitive to outliers) of the column.\n",
        "\n",
        "  2- Mode Imputation: Replace missing categorical values with the mode (most frequent value) of the column.\n",
        "\n",
        "  3- Forward Fill/Backward Fill: Propagate the last known value forward or backward in a time series dataset.\n",
        "\n",
        "  4- K-Nearest Neighbors (KNN) Imputation: Fill missing values based on the values of their k-nearest neighbors in feature space.\n",
        "\n",
        "  5- Prediction-Based Imputation: Use a model to predict missing values based on the values of other features. Common approaches include regression-based imputation and Random Forest imputation.\n",
        "\n",
        "  6- Multiple Imputation: This technique involves creating multiple imputations for each missing value, resulting in several complete datasets. The final analysis is then performed on each of these datasets, and the results are combined.\n",
        "\n",
        "  7- Filling with the help of Domain Expert Knowledge\n",
        "\n",
        "  8- Filling with Random Values\n",
        "\n",
        "  9- Filling with Zeros or Specific Values\n",
        "\n",
        "  10- Filling with Normal Values\n",
        "\n",
        "\n",
        "\n",
        "Choosing the right technique for filling missing data depends on several factors, including the nature of the data, the problem domain, the reason for the missing values, and the potential impact on the analysis.\n"
      ],
      "metadata": {
        "id": "wFHM348im4A2"
      }
    },
    {
      "cell_type": "code",
      "source": [
        "#Show NaN values\n",
        "df.isna().sum()\n",
        "\n",
        "#or df.isnull().sum()    بشوف ال columns يلي فيها null"
      ],
      "metadata": {
        "colab": {
          "base_uri": "https://localhost:8080/"
        },
        "id": "6l9CDZPa2cgA",
        "outputId": "424e49b6-9191-4ca2-f340-1cf6f2c8cbc4"
      },
      "execution_count": null,
      "outputs": [
        {
          "output_type": "execute_result",
          "data": {
            "text/plain": [
              "Country      0\n",
              "Age          1\n",
              "Salary       1\n",
              "Purchased    0\n",
              "dtype: int64"
            ]
          },
          "metadata": {},
          "execution_count": 6
        }
      ]
    },
    {
      "cell_type": "code",
      "source": [
        "# Removing Rows with Missing Values\n",
        "\n",
        "## Code\n",
        "df = df.dropna(axis=0)\n"
      ],
      "metadata": {
        "id": "My9mklWF62HP"
      },
      "execution_count": null,
      "outputs": []
    },
    {
      "cell_type": "code",
      "source": [
        "df.isnull().sum()"
      ],
      "metadata": {
        "colab": {
          "base_uri": "https://localhost:8080/"
        },
        "id": "hATAZEAu8Ltj",
        "outputId": "b4e25008-6c35-4695-8905-e8a1f80ff561"
      },
      "execution_count": null,
      "outputs": [
        {
          "output_type": "execute_result",
          "data": {
            "text/plain": [
              "Country      0\n",
              "Age          0\n",
              "Salary       0\n",
              "Purchased    0\n",
              "dtype: int64"
            ]
          },
          "metadata": {},
          "execution_count": 13
        }
      ]
    },
    {
      "cell_type": "code",
      "source": [
        "print(df)"
      ],
      "metadata": {
        "colab": {
          "base_uri": "https://localhost:8080/"
        },
        "id": "PULo4KKY8TVE",
        "outputId": "57d3017a-a53a-4846-b0f0-4884bd9079e5"
      },
      "execution_count": null,
      "outputs": [
        {
          "output_type": "stream",
          "name": "stdout",
          "text": [
            "   Country   Age   Salary Purchased\n",
            "0   France  44.0  72000.0        No\n",
            "1    Spain  27.0  48000.0       Yes\n",
            "2  Germany  30.0  54000.0        No\n",
            "3    Spain  38.0  61000.0        No\n",
            "5   France  35.0  58000.0       Yes\n",
            "7   France  48.0  79000.0       Yes\n",
            "8  Germany  50.0  83000.0        No\n",
            "9   France  37.0  67000.0       Yes\n"
          ]
        }
      ]
    },
    {
      "cell_type": "code",
      "source": [
        "# Mean/Median Imputation\n",
        "# Create a sample DataFrame with missing data\n",
        "data = {'A': [1, None, 3, None, 5],\n",
        "        'B': [None, 2, None, 4, None],\n",
        "        'C': [1, None, None, 4, 5]}\n",
        "\n",
        "df = pd.DataFrame(data)\n",
        "\n",
        "# Mean imputation\n",
        "mean_imputed = df.fillna(df.mean())\n",
        "\n",
        "# Median imputation\n",
        "median_imputed = df.fillna(df.median())\n",
        "\n",
        "print(\"Original DataFrame:\")\n",
        "print(df)\n",
        "\n",
        "print(\"\\nDataFrame after Mean Imputation:\")\n",
        "print(mean_imputed)\n",
        "\n",
        "print(\"\\nDataFrame after Median Imputation:\")\n",
        "print(median_imputed)\n"
      ],
      "metadata": {
        "id": "q27nbmZU640v",
        "outputId": "8395e255-704a-4dd9-80f8-25d248603c0f",
        "colab": {
          "base_uri": "https://localhost:8080/"
        }
      },
      "execution_count": null,
      "outputs": [
        {
          "output_type": "stream",
          "name": "stdout",
          "text": [
            "Original DataFrame:\n",
            "     A    B    C\n",
            "0  1.0  NaN  1.0\n",
            "1  NaN  2.0  NaN\n",
            "2  3.0  NaN  NaN\n",
            "3  NaN  4.0  4.0\n",
            "4  5.0  NaN  5.0\n",
            "\n",
            "DataFrame after Mean Imputation:\n",
            "     A    B         C\n",
            "0  1.0  3.0  1.000000\n",
            "1  3.0  2.0  3.333333\n",
            "2  3.0  3.0  3.333333\n",
            "3  3.0  4.0  4.000000\n",
            "4  5.0  3.0  5.000000\n",
            "\n",
            "DataFrame after Median Imputation:\n",
            "     A    B    C\n",
            "0  1.0  3.0  1.0\n",
            "1  3.0  2.0  4.0\n",
            "2  3.0  3.0  4.0\n",
            "3  3.0  4.0  4.0\n",
            "4  5.0  3.0  5.0\n"
          ]
        }
      ]
    },
    {
      "cell_type": "code",
      "source": [
        "# Mode Imputation\n",
        "\n",
        "import pandas as pd\n",
        "\n",
        "# Create a sample DataFrame with missing data\n",
        "data = {'A': [1, None, 3, None, 5, 1],\n",
        "        'B': [None, 2, None, 4, None, 2],\n",
        "        'C': [1, 2, 2, None, 5, 6]}\n",
        "\n",
        "df = pd.DataFrame(data)\n",
        "\n",
        "# Mode imputation\n",
        "mode_imputed = df.fillna(df.mode().iloc[0])\n",
        "\n",
        "print(\"Original DataFrame:\")\n",
        "print(df)\n",
        "\n",
        "print(\"\\nDataFrame after Mode Imputation:\")\n",
        "print(mode_imputed)\n"
      ],
      "metadata": {
        "id": "_Y4cFGwC8Pxr",
        "outputId": "d0731c2d-099e-4062-f6d2-ba2152e9dbd2",
        "colab": {
          "base_uri": "https://localhost:8080/"
        }
      },
      "execution_count": null,
      "outputs": [
        {
          "output_type": "stream",
          "name": "stdout",
          "text": [
            "Original DataFrame:\n",
            "     A    B    C\n",
            "0  1.0  NaN  1.0\n",
            "1  NaN  2.0  2.0\n",
            "2  3.0  NaN  2.0\n",
            "3  NaN  4.0  NaN\n",
            "4  5.0  NaN  5.0\n",
            "5  1.0  2.0  6.0\n",
            "\n",
            "DataFrame after Mode Imputation:\n",
            "     A    B    C\n",
            "0  1.0  2.0  1.0\n",
            "1  1.0  2.0  2.0\n",
            "2  3.0  2.0  2.0\n",
            "3  1.0  4.0  2.0\n",
            "4  5.0  2.0  5.0\n",
            "5  1.0  2.0  6.0\n"
          ]
        }
      ]
    },
    {
      "cell_type": "code",
      "source": [
        "# Forward Fill\n",
        "import pandas as pd\n",
        "\n",
        "# Create a sample DataFrame with missing data\n",
        "data = {'A': [1, None, 3, None, 5],\n",
        "        'B': [None, 2, None, 4, None],\n",
        "        'C': [1, None, None, 4, 5]}\n",
        "\n",
        "df = pd.DataFrame(data)\n",
        "\n",
        "# Perform forward fill\n",
        "df_filled = df.ffill()   #or df_filled = df.fillna(method='ffill'))\n",
        "\n",
        "print(\"Original DataFrame:\")\n",
        "print(df)\n",
        "\n",
        "print(\"\\nDataFrame after Forward Fill:\")\n",
        "print(df_filled)\n",
        "\n",
        "## Code"
      ],
      "metadata": {
        "id": "upzqn70_7Asc",
        "outputId": "ee458027-2145-466d-c547-fe82c686a693",
        "colab": {
          "base_uri": "https://localhost:8080/"
        }
      },
      "execution_count": null,
      "outputs": [
        {
          "output_type": "stream",
          "name": "stdout",
          "text": [
            "Original DataFrame:\n",
            "     A    B    C\n",
            "0  1.0  NaN  1.0\n",
            "1  NaN  2.0  NaN\n",
            "2  3.0  NaN  NaN\n",
            "3  NaN  4.0  4.0\n",
            "4  5.0  NaN  5.0\n",
            "\n",
            "DataFrame after Forward Fill:\n",
            "     A    B    C\n",
            "0  1.0  NaN  1.0\n",
            "1  1.0  2.0  1.0\n",
            "2  3.0  2.0  1.0\n",
            "3  3.0  4.0  4.0\n",
            "4  5.0  4.0  5.0\n"
          ]
        }
      ]
    },
    {
      "cell_type": "code",
      "source": [
        "# Backward Fill\n",
        "# Create a sample DataFrame with missing data\n",
        "data = {'A': [1, 2, None, 4, None, 6],\n",
        "        'B': [None, 2, 3, None, None, 5],\n",
        "        'C': [1, 2, None, None, 5, 6]}\n",
        "\n",
        "df = pd.DataFrame(data)\n",
        "\n",
        "# Perform backward fill\n",
        "df_filled = df.bfill()   #or df_filled = df.fillna(method='bfill')\n",
        "\n",
        "print(\"Original DataFrame:\")\n",
        "print(df)\n",
        "\n",
        "print(\"\\nDataFrame after Backward Fill:\")\n",
        "print(df_filled)\n"
      ],
      "metadata": {
        "id": "8UNVGEm87Hos",
        "outputId": "369b34a8-293e-46ec-8423-700d216e0bc9",
        "colab": {
          "base_uri": "https://localhost:8080/"
        }
      },
      "execution_count": null,
      "outputs": [
        {
          "output_type": "stream",
          "name": "stdout",
          "text": [
            "Original DataFrame:\n",
            "     A    B    C\n",
            "0  1.0  NaN  1.0\n",
            "1  2.0  2.0  2.0\n",
            "2  NaN  3.0  NaN\n",
            "3  4.0  NaN  NaN\n",
            "4  NaN  NaN  5.0\n",
            "5  6.0  5.0  6.0\n",
            "\n",
            "DataFrame after Backward Fill:\n",
            "     A    B    C\n",
            "0  1.0  2.0  1.0\n",
            "1  2.0  2.0  2.0\n",
            "2  4.0  3.0  5.0\n",
            "3  4.0  5.0  5.0\n",
            "4  6.0  5.0  5.0\n",
            "5  6.0  5.0  6.0\n"
          ]
        }
      ]
    },
    {
      "cell_type": "markdown",
      "source": [
        "K-Nearest Neighbors (KNN) Imputation:\n",
        "\n",
        "- Define a Distance Metric: You need to choose a distance metric to measure the similarity between data points. Common distance metrics include Euclidean distance, Manhattan distance, or other custom-defined metrics.\n",
        "\n",
        "\n",
        "- Select the Number of Neighbors (K): This is a hyperparameter that you need to specify. It determines how many neighboring data points will be considered when imputing the missing value. The choice of K can impact the imputation results.\n",
        "\n",
        "\n",
        "- Find Nearest Neighbors: For each observation with a missing value, you calculate the distance to all other observations in the dataset. Then, you select the K closest neighbors.\n",
        "\n",
        "\n",
        "- Impute Missing Value: Once you have the K nearest neighbors, you can impute the missing value by taking an average (for numerical variables) or mode (for categorical variables) of the values of that variable in the neighbors.\n",
        "\n",
        "\n",
        "- Repeat for All Missing Values"
      ],
      "metadata": {
        "id": "-kfBp4UoAmDo"
      }
    },
    {
      "cell_type": "code",
      "source": [
        "from sklearn.impute import KNNImputer    #xgboots\n",
        "import pandas as pd\n",
        "\n",
        "# Create a sample DataFrame with missing data\n",
        "data = {'A': [1, None, 3, None, 5],\n",
        "        'B': [None, 2, None, 4, None],\n",
        "        'C': [1, None, None, 4, 5]}\n",
        "\n",
        "df = pd.DataFrame(data)\n",
        "\n",
        "# Initialize the KNNImputer with desired number of neighbors (K)\n",
        "imputer = KNNImputer(n_neighbors=2)   # بياخذ أقرب نقطتين له\n",
        "\n",
        "# Perform KNN imputation\n",
        "imputed_data = pd.DataFrame(imputer.fit_transform(df),columns = df.columns)   #or imputed_data = imputer.fit_transform(df[['A','B','C']])\n",
        "\n",
        "\n",
        "# Convert the result back to a DataFrame\n",
        "df_imputed = pd.DataFrame(imputed_data, columns=df.columns)\n",
        "\n",
        "print(\"Original DataFrame:\")\n",
        "print(df)\n",
        "\n",
        "print(\"\\nDataFrame after KNN Imputation:\")\n",
        "print(df_imputed)\n"
      ],
      "metadata": {
        "id": "_HysbU_47KMh",
        "outputId": "70b982a3-a35a-47b6-b2d3-6c110c73a071",
        "colab": {
          "base_uri": "https://localhost:8080/"
        }
      },
      "execution_count": null,
      "outputs": [
        {
          "output_type": "stream",
          "name": "stdout",
          "text": [
            "Original DataFrame:\n",
            "     A    B    C\n",
            "0  1.0  NaN  1.0\n",
            "1  NaN  2.0  NaN\n",
            "2  3.0  NaN  NaN\n",
            "3  NaN  4.0  4.0\n",
            "4  5.0  NaN  5.0\n",
            "\n",
            "DataFrame after KNN Imputation:\n",
            "     A    B         C\n",
            "0  1.0  3.0  1.000000\n",
            "1  3.0  2.0  3.333333\n",
            "2  3.0  3.0  3.333333\n",
            "3  3.0  4.0  4.000000\n",
            "4  5.0  3.0  5.000000\n"
          ]
        }
      ]
    },
    {
      "cell_type": "markdown",
      "source": [
        "Here are steps you can follow to perform prediction-based imputation:\n",
        "\n",
        "- Split Data: Divide your dataset into two parts - one with complete data (training set) and the other with missing values (test set).\n",
        "\n",
        "- Select Features: Identify the features (columns) that will be used to predict the missing values. These features should not contain any missing values themselves.\n",
        "\n",
        "- Train a Model: Use a suitable machine learning algorithm (e.g., regression, decision tree, etc.) to build a predictive model. The model will be trained on the complete data to predict the missing values.\n",
        "\n",
        "- Predict Missing Values: Apply the trained model to the test set (data with missing values) to predict the missing values.\n",
        "\n",
        "- Replace Missing Values: Replace the missing values in the original dataset with the predicted values."
      ],
      "metadata": {
        "id": "y7CrVhy-CKKO"
      }
    },
    {
      "cell_type": "code",
      "source": [
        "# Create a sample DataFrame with missing data\n",
        "data = {'A': [1, None, 3, None, 5],\n",
        "        'B': [None, 2, None, 4, None],\n",
        "        'C': [1, None, None, 4, 5]}\n",
        "\n",
        "\n",
        "print(\"Original DataFrame:\")\n",
        "print(df)\n",
        "\n",
        "df_imputed = df.fillna(np.random.random())\n",
        "\n",
        "print(\"\\nDataFrame after Filling:\")\n",
        "print(df_imputed)\n"
      ],
      "metadata": {
        "id": "Oz_OPUbBDsIp",
        "outputId": "2005c9a1-da29-41fc-9154-27b28bc517a6",
        "colab": {
          "base_uri": "https://localhost:8080/"
        }
      },
      "execution_count": null,
      "outputs": [
        {
          "output_type": "stream",
          "name": "stdout",
          "text": [
            "Original DataFrame:\n",
            "     A    B    C\n",
            "0  1.0  NaN  1.0\n",
            "1  NaN  2.0  2.0\n",
            "2  3.0  NaN  2.0\n",
            "3  NaN  4.0  NaN\n",
            "4  5.0  NaN  5.0\n",
            "5  1.0  2.0  6.0\n",
            "\n",
            "DataFrame after Filling:\n",
            "          A         B         C\n",
            "0  1.000000  0.834467  1.000000\n",
            "1  0.834467  2.000000  2.000000\n",
            "2  3.000000  0.834467  2.000000\n",
            "3  0.834467  4.000000  0.834467\n",
            "4  5.000000  0.834467  5.000000\n",
            "5  1.000000  2.000000  6.000000\n"
          ]
        }
      ]
    },
    {
      "cell_type": "markdown",
      "source": [
        "Encoding categorical data is an important preprocessing step when working with machine learning algorithms, as most algorithms require numerical input. Categorical data refers to variables that can take on a limited set of discrete values, such as colors, types of fruit, or categories like \"yes\" and \"no\".\n",
        "\n",
        "There are several common methods for encoding categorical data:\n",
        "\n",
        "- One-Hot Encoding:\n",
        "\n",
        "One-hot encoding is used for categorical variables with no inherent ordinal relationship. It creates binary columns for each category and assigns a 1 or 0 to indicate the presence or absence of that category.\n",
        "For example, if you have a \"Color\" variable with categories \"Red\", \"Green\", and \"Blue\", it would be encoded as three binary columns: \"Color_Red\", \"Color_Green\", and \"Color_Blue\".\n",
        "\n",
        "![1_taMQOp5XfXOICUxHeK-L6g.webp](data:image/webp;base64,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)\n",
        "\n",
        "- Label Encoding:\n",
        "\n",
        "Label encoding is suitable when there is an ordinal relationship between the categories. It assigns a unique integer to each category.\n",
        "For example, if you have a variable \"Size\" with categories \"Small\", \"Medium\", and \"Large\", you could assign 0, 1, and 2 to represent these categories.\n",
        "\n",
        "![1_6oPWUuOwUD7yfqRb8ZAzeA.webp](data:image/webp;base64,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)"
      ],
      "metadata": {
        "id": "SJBGUy4yFcyy"
      }
    },
    {
      "cell_type": "code",
      "source": [
        "import pandas as pd\n",
        "\n",
        "data = {'Color': ['Red', 'Green', 'Blue', 'Green', 'Red']}\n",
        "df = pd.DataFrame(data)\n",
        "\n",
        "# Perform one-hot encoding\n",
        "df_encoded = pd.get_dummies(df, columns=['Color'])\n",
        "\n",
        "print (df)\n",
        "print(df_encoded)"
      ],
      "metadata": {
        "id": "VqmTlFxfF0am",
        "outputId": "cecf0bee-e6aa-4fb6-f058-cd6d7a09aff7",
        "colab": {
          "base_uri": "https://localhost:8080/"
        }
      },
      "execution_count": null,
      "outputs": [
        {
          "output_type": "stream",
          "name": "stdout",
          "text": [
            "   Color\n",
            "0    Red\n",
            "1  Green\n",
            "2   Blue\n",
            "3  Green\n",
            "4    Red\n",
            "   Color_Blue  Color_Green  Color_Red\n",
            "0           0            0          1\n",
            "1           0            1          0\n",
            "2           1            0          0\n",
            "3           0            1          0\n",
            "4           0            0          1\n"
          ]
        }
      ]
    },
    {
      "cell_type": "code",
      "source": [
        "import pandas as pd\n",
        "from sklearn.preprocessing import LabelEncoder\n",
        "\n",
        "# Creating a more complex DataFrame\n",
        "data = {\n",
        "    'Name': ['John', 'Jane', 'Bob', 'Alice', 'Eve'],\n",
        "    'Age': [25, 30, 35, 40, 45],\n",
        "    'City': ['New York', 'Los Angeles', 'Chicago', 'San Francisco', 'Seattle'],\n",
        "    'Category': ['A', 'B', 'A', 'C', 'B'],\n",
        "    'Income': [50000, 60000, 70000, 80000, 90000],\n",
        "    'Education': ['Masters', 'Bachelors', 'PhD', 'Bachelors', 'Masters']\n",
        "}\n",
        "\n",
        "df = pd.DataFrame(data)\n",
        "print (\"original Dataframe\\n\" , df)\n",
        "# One-hot encoding the 'City' column\n",
        "\n",
        "df = pd.get_dummies(df, columns=['City'])\n",
        "\n",
        "print(df)"
      ],
      "metadata": {
        "colab": {
          "base_uri": "https://localhost:8080/"
        },
        "id": "hgCPdkqsH4G3",
        "outputId": "fa39e0b8-f478-4b7f-d710-16f44a9a5e4a"
      },
      "execution_count": null,
      "outputs": [
        {
          "output_type": "stream",
          "name": "stdout",
          "text": [
            "original Dataframe\n",
            "     Name  Age           City Category  Income  Education\n",
            "0   John   25       New York        A   50000    Masters\n",
            "1   Jane   30    Los Angeles        B   60000  Bachelors\n",
            "2    Bob   35        Chicago        A   70000        PhD\n",
            "3  Alice   40  San Francisco        C   80000  Bachelors\n",
            "4    Eve   45        Seattle        B   90000    Masters\n",
            "    Name  Age Category  Income  Education  City_Chicago  City_Los Angeles  \\\n",
            "0   John   25        A   50000    Masters             0                 0   \n",
            "1   Jane   30        B   60000  Bachelors             0                 1   \n",
            "2    Bob   35        A   70000        PhD             1                 0   \n",
            "3  Alice   40        C   80000  Bachelors             0                 0   \n",
            "4    Eve   45        B   90000    Masters             0                 0   \n",
            "\n",
            "   City_New York  City_San Francisco  City_Seattle  \n",
            "0              1                   0             0  \n",
            "1              0                   0             0  \n",
            "2              0                   0             0  \n",
            "3              0                   1             0  \n",
            "4              0                   0             1  \n"
          ]
        }
      ]
    },
    {
      "cell_type": "code",
      "source": [
        "# Label encoding the 'Education' column\n",
        "label_encoder = LabelEncoder()\n",
        "df['Education'] = label_encoder.fit_transform(df['Education'])\n",
        "\n",
        "print(df)"
      ],
      "metadata": {
        "colab": {
          "base_uri": "https://localhost:8080/"
        },
        "id": "5j_nQog8IqGF",
        "outputId": "6610d1b7-d575-4db1-da0e-29e1e2c1db3a"
      },
      "execution_count": null,
      "outputs": [
        {
          "output_type": "stream",
          "name": "stdout",
          "text": [
            "    Name  Age Category  Income  Education  City_Chicago  City_Los Angeles  \\\n",
            "0   John   25        A   50000          1             0                 0   \n",
            "1   Jane   30        B   60000          0             0                 1   \n",
            "2    Bob   35        A   70000          2             1                 0   \n",
            "3  Alice   40        C   80000          0             0                 0   \n",
            "4    Eve   45        B   90000          1             0                 0   \n",
            "\n",
            "   City_New York  City_San Francisco  City_Seattle  \n",
            "0              1                   0             0  \n",
            "1              0                   0             0  \n",
            "2              0                   0             0  \n",
            "3              0                   1             0  \n",
            "4              0                   0             1  \n"
          ]
        }
      ]
    },
    {
      "cell_type": "markdown",
      "source": [
        "Normalization is a common preprocessing step when working with numerical data, especially for machine learning algorithms. It scales the numerical features to a standard range, typically between 0 and 1, to ensure that all features have equal importance and to make the data more amenable to machine learning algorithms. There are various methods for normalizing data, and one common method is Min-Max scaling."
      ],
      "metadata": {
        "id": "v_uHZc94JJBw"
      }
    },
    {
      "cell_type": "code",
      "source": [
        "import pandas as pd\n",
        "from sklearn.preprocessing import MinMaxScaler\n",
        "\n",
        "data = {\n",
        "    'Name': ['John', 'Jane', 'Bob', 'Alice'],\n",
        "    'Age': [30, 25, 35, 28],\n",
        "    'Income': [50000, 60000, 70000, 80000],\n",
        "    'Is_Employed': [True, True, False, True],\n",
        "    'City': ['New York', 'San Francisco', 'Los Angeles', 'Chicago'],\n",
        "        'State': ['NY', 'CA', 'CA', 'IL']\n",
        "}\n",
        "\n",
        "# Create the dataframe\n",
        "df = pd.DataFrame(data)\n",
        "print(df)\n",
        "# Initialize the scaler\n",
        "scaler = MinMaxScaler()\n",
        "\n",
        "# Apply Min-Max scaling to specific columns\n",
        "columns_to_normalize = ['Age', 'Income']\n",
        "df[columns_to_normalize] = scaler.fit_transform(df[columns_to_normalize])\n",
        "\n",
        "print(df)"
      ],
      "metadata": {
        "colab": {
          "base_uri": "https://localhost:8080/"
        },
        "id": "PzU4aoryMq_9",
        "outputId": "910872ea-4a74-4d13-81ac-b63324e12b6d"
      },
      "execution_count": null,
      "outputs": [
        {
          "output_type": "stream",
          "name": "stdout",
          "text": [
            "    Name  Age  Income  Is_Employed           City State\n",
            "0   John   30   50000         True       New York    NY\n",
            "1   Jane   25   60000         True  San Francisco    CA\n",
            "2    Bob   35   70000        False    Los Angeles    CA\n",
            "3  Alice   28   80000         True        Chicago    IL\n",
            "    Name  Age    Income  Is_Employed           City State\n",
            "0   John  0.5  0.000000         True       New York    NY\n",
            "1   Jane  0.0  0.333333         True  San Francisco    CA\n",
            "2    Bob  1.0  0.666667        False    Los Angeles    CA\n",
            "3  Alice  0.3  1.000000         True        Chicago    IL\n"
          ]
        }
      ]
    },
    {
      "cell_type": "markdown",
      "source": [
        "Z-Score (Standardization):\n",
        "\n",
        "Z-Score normalization (or standardization) scales the data to have a mean of 0 and a standard deviation of 1. This is useful when the features have a Gaussian distribution."
      ],
      "metadata": {
        "id": "UU2LcxVzJu3N"
      }
    },
    {
      "cell_type": "code",
      "source": [
        "from sklearn.preprocessing import StandardScaler\n",
        "\n",
        "data = {\n",
        "    'Name': ['John', 'Jane', 'Bob', 'Alice'],\n",
        "    'Age': [30, 25, 35, 28],\n",
        "    'Income': [50000, 60000, 70000, 80000],\n",
        "    'Is_Employed': [True, True, False, True],\n",
        "    'City': ['New York', 'San Francisco', 'Los Angeles', 'Chicago'],\n",
        "        'State': ['NY', 'CA', 'CA', 'IL']\n",
        "}\n",
        "\n",
        "# Create the dataframe\n",
        "df = pd.DataFrame(data)\n",
        "print(df)\n",
        "# Initialize the scaler\n",
        "scaler = StandardScaler()\n",
        "\n",
        "\n",
        "# Apply Min-Max scaling to specific columns\n",
        "columns_to_normalize = ['Age', 'Income']\n",
        "df[columns_to_normalize] = scaler.fit_transform(df[columns_to_normalize])\n",
        "\n",
        "print(df)"
      ],
      "metadata": {
        "id": "3macqnmLPWwl",
        "outputId": "e366a9f1-3d43-4a53-ef93-ad67c488bdea",
        "colab": {
          "base_uri": "https://localhost:8080/"
        }
      },
      "execution_count": null,
      "outputs": [
        {
          "output_type": "stream",
          "name": "stdout",
          "text": [
            "    Name  Age  Income  Is_Employed           City State\n",
            "0   John   30   50000         True       New York    NY\n",
            "1   Jane   25   60000         True  San Francisco    CA\n",
            "2    Bob   35   70000        False    Los Angeles    CA\n",
            "3  Alice   28   80000         True        Chicago    IL\n",
            "    Name       Age    Income  Is_Employed           City State\n",
            "0   John  0.137361 -1.341641         True       New York    NY\n",
            "1   Jane -1.236245 -0.447214         True  San Francisco    CA\n",
            "2    Bob  1.510966  0.447214        False    Los Angeles    CA\n",
            "3  Alice -0.412082  1.341641         True        Chicago    IL\n"
          ]
        }
      ]
    },
    {
      "cell_type": "code",
      "source": [
        "# Handling Imbalance data\n",
        "\n",
        "# Will be discussed later"
      ],
      "metadata": {
        "id": "Z2upRSJPJiQr"
      },
      "execution_count": null,
      "outputs": []
    },
    {
      "cell_type": "code",
      "source": [
        "url = 'https://raw.githubusercontent.com/mGalarnyk/Tutorial_Data/master/King_County/kingCountyHouseData.csv'\n",
        "df = pd.read_csv(url)\n",
        "# Selecting columns I am interested in\n",
        "columns = ['bedrooms','bathrooms','sqft_living','sqft_lot','floors','price']\n",
        "print(df.head(10))"
      ],
      "metadata": {
        "id": "2PPs5gSXROQZ",
        "outputId": "686eaef5-2d06-43dd-a5db-e554e327ff89",
        "colab": {
          "base_uri": "https://localhost:8080/"
        }
      },
      "execution_count": null,
      "outputs": [
        {
          "output_type": "stream",
          "name": "stdout",
          "text": [
            "           id             date      price  bedrooms  bathrooms  sqft_living  \\\n",
            "0  7129300520  20141013T000000   221900.0         3       1.00         1180   \n",
            "1  6414100192  20141209T000000   538000.0         3       2.25         2570   \n",
            "2  5631500400  20150225T000000   180000.0         2       1.00          770   \n",
            "3  2487200875  20141209T000000   604000.0         4       3.00         1960   \n",
            "4  1954400510  20150218T000000   510000.0         3       2.00         1680   \n",
            "5  7237550310  20140512T000000  1225000.0         4       4.50         5420   \n",
            "6  1321400060  20140627T000000   257500.0         3       2.25         1715   \n",
            "7  2008000270  20150115T000000   291850.0         3       1.50         1060   \n",
            "8  2414600126  20150415T000000   229500.0         3       1.00         1780   \n",
            "9  3793500160  20150312T000000   323000.0         3       2.50         1890   \n",
            "\n",
            "   sqft_lot  floors  waterfront  view  ...  grade  sqft_above  sqft_basement  \\\n",
            "0      5650     1.0           0     0  ...      7        1180              0   \n",
            "1      7242     2.0           0     0  ...      7        2170            400   \n",
            "2     10000     1.0           0     0  ...      6         770              0   \n",
            "3      5000     1.0           0     0  ...      7        1050            910   \n",
            "4      8080     1.0           0     0  ...      8        1680              0   \n",
            "5    101930     1.0           0     0  ...     11        3890           1530   \n",
            "6      6819     2.0           0     0  ...      7        1715              0   \n",
            "7      9711     1.0           0     0  ...      7        1060              0   \n",
            "8      7470     1.0           0     0  ...      7        1050            730   \n",
            "9      6560     2.0           0     0  ...      7        1890              0   \n",
            "\n",
            "   yr_built  yr_renovated  zipcode      lat     long  sqft_living15  \\\n",
            "0      1955             0    98178  47.5112 -122.257           1340   \n",
            "1      1951          1991    98125  47.7210 -122.319           1690   \n",
            "2      1933             0    98028  47.7379 -122.233           2720   \n",
            "3      1965             0    98136  47.5208 -122.393           1360   \n",
            "4      1987             0    98074  47.6168 -122.045           1800   \n",
            "5      2001             0    98053  47.6561 -122.005           4760   \n",
            "6      1995             0    98003  47.3097 -122.327           2238   \n",
            "7      1963             0    98198  47.4095 -122.315           1650   \n",
            "8      1960             0    98146  47.5123 -122.337           1780   \n",
            "9      2003             0    98038  47.3684 -122.031           2390   \n",
            "\n",
            "   sqft_lot15  \n",
            "0        5650  \n",
            "1        7639  \n",
            "2        8062  \n",
            "3        5000  \n",
            "4        7503  \n",
            "5      101930  \n",
            "6        6819  \n",
            "7        9711  \n",
            "8        8113  \n",
            "9        7570  \n",
            "\n",
            "[10 rows x 21 columns]\n"
          ]
        }
      ]
    },
    {
      "cell_type": "code",
      "source": [
        "features = ['bedrooms','bathrooms','sqft_living','sqft_lot','floors']\n",
        "X = df.loc[:, features]    #كل الصفوف وفقط عمود ال features\n",
        "y = df.loc[:, ['price']]\n",
        "print(X,y)"
      ],
      "metadata": {
        "id": "gFyidwmjRZN4",
        "outputId": "ed89f287-8fc0-4fd5-d191-6b4794d93443",
        "colab": {
          "base_uri": "https://localhost:8080/"
        }
      },
      "execution_count": null,
      "outputs": [
        {
          "output_type": "stream",
          "name": "stdout",
          "text": [
            "       bedrooms  bathrooms  sqft_living  sqft_lot  floors\n",
            "0             3       1.00         1180      5650     1.0\n",
            "1             3       2.25         2570      7242     2.0\n",
            "2             2       1.00          770     10000     1.0\n",
            "3             4       3.00         1960      5000     1.0\n",
            "4             3       2.00         1680      8080     1.0\n",
            "...         ...        ...          ...       ...     ...\n",
            "21608         3       2.50         1530      1131     3.0\n",
            "21609         4       2.50         2310      5813     2.0\n",
            "21610         2       0.75         1020      1350     2.0\n",
            "21611         3       2.50         1600      2388     2.0\n",
            "21612         2       0.75         1020      1076     2.0\n",
            "\n",
            "[21613 rows x 5 columns]           price\n",
            "0      221900.0\n",
            "1      538000.0\n",
            "2      180000.0\n",
            "3      604000.0\n",
            "4      510000.0\n",
            "...         ...\n",
            "21608  360000.0\n",
            "21609  400000.0\n",
            "21610  402101.0\n",
            "21611  400000.0\n",
            "21612  325000.0\n",
            "\n",
            "[21613 rows x 1 columns]\n"
          ]
        }
      ]
    },
    {
      "cell_type": "code",
      "source": [
        "from sklearn.model_selection import train_test_split\n",
        "\n",
        "# Assuming X contains features and y contains labels\n",
        "X_train, X_test, y_train, y_test = train_test_split\\\n",
        "        (X, y, test_size=0.2, random_state=42 , shuffle=True)    #random_state إذا حطينا رقم فكل ما يخربط رح يختار نفس القيم, shuffle=true  مسموح يخربط البيانات\n",
        "\n",
        "# X_train: Features for training\n",
        "# y_train: Labels for training\n",
        "# X_test: Features for testing\n",
        "# y_test: Labels for testing\n",
        "\n",
        "# test_size: The proportion of the dataset to include in the test split (0.2 means 20% for testing)\n",
        "# random_state: Seed for the random number generator for reproducibility\n",
        "\n",
        "\n",
        "print(X_train)\n",
        "print(y_train)\n",
        "print(X_test)\n",
        "print(y_test)"
      ],
      "metadata": {
        "id": "sZKD84yaQBUL",
        "outputId": "53b95066-9118-4c61-a225-783e229954e5",
        "colab": {
          "base_uri": "https://localhost:8080/"
        }
      },
      "execution_count": null,
      "outputs": [
        {
          "output_type": "stream",
          "name": "stdout",
          "text": [
            "       bedrooms  bathrooms  sqft_living  sqft_lot  floors\n",
            "6325          3       1.75         1780     13095     1.0\n",
            "13473         2       1.00         1000      3700     1.0\n",
            "17614         3       1.00         1080      7486     1.5\n",
            "16970         3       2.25         2090      7500     1.0\n",
            "20868         2       2.50         1741      1439     2.0\n",
            "...         ...        ...          ...       ...     ...\n",
            "11964         3       1.50         1000      6914     1.0\n",
            "21575         3       2.50         3087      5002     2.0\n",
            "5390          3       2.50         2120      4780     2.0\n",
            "860           1       0.75          380     15000     1.0\n",
            "15795         4       2.50         3130      5999     2.0\n",
            "\n",
            "[17290 rows x 5 columns]\n",
            "          price\n",
            "6325   325000.0\n",
            "13473  257000.0\n",
            "17614  228500.0\n",
            "16970  288000.0\n",
            "20868  479000.0\n",
            "...         ...\n",
            "11964  378000.0\n",
            "21575  399950.0\n",
            "5390   575000.0\n",
            "860    245000.0\n",
            "15795  315000.0\n",
            "\n",
            "[17290 rows x 1 columns]\n",
            "       bedrooms  bathrooms  sqft_living  sqft_lot  floors\n",
            "735           4       2.25         2070      8893     2.0\n",
            "2830          5       3.00         2900      6730     1.0\n",
            "4106          4       2.50         3770     10893     2.0\n",
            "16218         3       3.50         4560     14608     2.0\n",
            "19964         3       2.50         2550      5376     2.0\n",
            "...         ...        ...          ...       ...     ...\n",
            "13674         3       1.75         1250      7710     1.0\n",
            "20377         3       2.75         2830      3496     2.0\n",
            "8805          4       2.50         2434      4400     2.0\n",
            "10168         4       1.75         2250     10108     1.0\n",
            "2522          4       2.50         2570     11473     2.0\n",
            "\n",
            "[4323 rows x 5 columns]\n",
            "           price\n",
            "735     365000.0\n",
            "2830    865000.0\n",
            "4106   1038000.0\n",
            "16218  1490000.0\n",
            "19964   711000.0\n",
            "...          ...\n",
            "13674   338000.0\n",
            "20377   673000.0\n",
            "8805    285000.0\n",
            "10168   605000.0\n",
            "2522    356500.0\n",
            "\n",
            "[4323 rows x 1 columns]\n"
          ]
        }
      ]
    }
  ]
}