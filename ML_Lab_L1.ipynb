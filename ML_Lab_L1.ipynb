{
  "nbformat": 4,
  "nbformat_minor": 0,
  "metadata": {
    "colab": {
      "provenance": [],
      "include_colab_link": true
    },
    "kernelspec": {
      "name": "python3",
      "display_name": "Python 3"
    }
  },
  "cells": [
    {
      "cell_type": "markdown",
      "metadata": {
        "id": "view-in-github",
        "colab_type": "text"
      },
      "source": [
        "<a href=\"https://colab.research.google.com/github/fatimaabuhamdeh/deep/blob/main/ML_Lab_L1.ipynb\" target=\"_parent\"><img src=\"https://colab.research.google.com/assets/colab-badge.svg\" alt=\"Open In Colab\"/></a>"
      ]
    },
    {
      "cell_type": "markdown",
      "source": [
        "[link text](https://colab.research.google.com/drive/1l2kkOMqpB4p98WgDAYOw6vWrN_QLDk-R?usp=sharing)"
      ],
      "metadata": {
        "id": "9_89rX1mKZv3"
      }
    },
    {
      "cell_type": "code",
      "metadata": {
        "id": "SF8skzfRqcx7",
        "colab": {
          "base_uri": "https://localhost:8080/"
        },
        "outputId": "c04ce6eb-1961-41f6-db10-89bfe583e044"
      },
      "source": [
        "a = 5\n",
        "b = 6\n",
        "\n",
        "# swap\n",
        "a,b = b,a\n",
        "print('a = ' , a ,'    ', 'b = ', b)\n",
        "\n",
        "# another swap\n",
        "\n",
        "a = a + b    #6+5=11\n",
        "b = a - b    #11-5=6\n",
        "a = a - b    #11-6=5\n",
        "print('a = ' , a ,'    ', 'b = ', b)"
      ],
      "execution_count": 3,
      "outputs": [
        {
          "output_type": "stream",
          "name": "stdout",
          "text": [
            "a =  6      b =  5\n",
            "a =  5      b =  6\n"
          ]
        }
      ]
    },
    {
      "cell_type": "code",
      "source": [
        "txt = \"Hello World\"\n",
        "txt = txt[::-1]    #[::] في Python يستخدم لتحديد جزء من النص، وهو معروف بـ \"slicing\"، حيث أن القيم الثلاثة بالتسلسل تحدد بداية الجزء المراد تحديده، نهايته، وخطوة التقديم.\n",
        "                   #[::-1] تعني استخدام القيم الافتراضية للبداية والنهاية (النص كاملاً) ولكن بخطوة -1، وهذا يعني أنه سيتم قراءة النص بشكل عكسي.\n",
        "print(txt)"
      ],
      "metadata": {
        "id": "krtM-8Sx37yU",
        "colab": {
          "base_uri": "https://localhost:8080/"
        },
        "outputId": "b39f75d9-2afa-49de-be20-a8f1a5db51f3"
      },
      "execution_count": 5,
      "outputs": [
        {
          "output_type": "stream",
          "name": "stdout",
          "text": [
            "dlroW olleH\n"
          ]
        }
      ]
    },
    {
      "cell_type": "code",
      "metadata": {
        "id": "z1a2XyMxTj2L",
        "colab": {
          "base_uri": "https://localhost:8080/"
        },
        "outputId": "2025038a-e4d5-4c06-e780-3b3557f9d69e"
      },
      "source": [
        "# Find if the string is a palindrome (متناظر)\n",
        "#يعني لو قلبنا الكلمة تطلع نفس الشي مثل خوخ\n",
        "s = input('Enter a string  ')\n",
        "if s == s[::-1]:\n",
        "  print('The string is a palindrome')\n",
        "else:\n",
        "  print('The string is not a palindrome')"
      ],
      "execution_count": 8,
      "outputs": [
        {
          "output_type": "stream",
          "name": "stdout",
          "text": [
            "Enter a string  gog\n",
            "The string is a palindrome\n"
          ]
        }
      ]
    },
    {
      "cell_type": "code",
      "metadata": {
        "id": "EcIy36ffWb6h",
        "colab": {
          "base_uri": "https://localhost:8080/"
        },
        "outputId": "116d385b-b626-406d-ebe0-b074be5a077b"
      },
      "source": [
        "# Write a python programme to insert a new string before the second element in a string\n",
        "#الكلمة يلي رح نكتبها رح تنحط بعد أول حرف\n",
        "s = input('Enter a string ')\n",
        "t = 'Hello world'\n",
        "t = t[0] + s + t[1:]\n",
        "print(t)"
      ],
      "execution_count": 10,
      "outputs": [
        {
          "output_type": "stream",
          "name": "stdout",
          "text": [
            "Enter a string fatima\n",
            "Hfatimaello world\n"
          ]
        }
      ]
    },
    {
      "cell_type": "code",
      "metadata": {
        "id": "xmKK1lJBXLPT",
        "colab": {
          "base_uri": "https://localhost:8080/"
        },
        "outputId": "88bcdde0-5404-4b1d-c027-f33d3a5476a2"
      },
      "source": [
        "# Write a python programme to find how many duplicate letters are in a string\n",
        "#بشوف كل حرف كم متكرر, وبشوف كم الأحرف يلي متكررة أكتر من مرة\n",
        "s = input('Enter a string  ')\n",
        "m = {}\n",
        "for i in s:\n",
        "  if i in m.keys() :\n",
        "    m[i]+=1\n",
        "  else :\n",
        "    m[i] = 1\n",
        "\n",
        "count = 0\n",
        "for i in m.values() :\n",
        "  if i > 1 :\n",
        "    count = count +1\n",
        "\n",
        "print(count)\n",
        "print(m)"
      ],
      "execution_count": 12,
      "outputs": [
        {
          "output_type": "stream",
          "name": "stdout",
          "text": [
            "Enter a string  fatooma\n",
            "2\n",
            "{'f': 1, 'a': 2, 't': 1, 'o': 2, 'm': 1}\n"
          ]
        }
      ]
    },
    {
      "cell_type": "code",
      "metadata": {
        "id": "Gcp7EOEjZOpF",
        "colab": {
          "base_uri": "https://localhost:8080/"
        },
        "outputId": "937c92f0-b1fa-40e9-a3c7-4f5cc105a2e6"
      },
      "source": [
        "# Write a python code to swap ‘A’ with ‘X’ in a string and ‘X’ with ‘A’\n",
        "s = input('Enter a string  ')\n",
        "slist = list(s)\n",
        "for i in range(len(slist)) :\n",
        "  if slist[i] == 'a' :\n",
        "    slist[i] = 'x'\n",
        "  elif slist[i] == 'x':\n",
        "    slist[i] = 'a'\n",
        "s = \"\".join(slist)    #دمج العناصر بدون أي فواصل بينها\n",
        "print(s)"
      ],
      "execution_count": 14,
      "outputs": [
        {
          "output_type": "stream",
          "name": "stdout",
          "text": [
            "Enter a string  fatimx\n",
            "fxtima\n"
          ]
        }
      ]
    },
    {
      "cell_type": "code",
      "metadata": {
        "id": "J2-ZKrRcdGbz",
        "colab": {
          "base_uri": "https://localhost:8080/"
        },
        "outputId": "35737e65-04b3-4bf9-d807-d43172f2deb7"
      },
      "source": [
        "# Write a Python program to get the number of occurrences of a specified character in a string\n",
        "#مندخل كلمة بعدبن مندخل حرف وبشوف كم مرة متكرر هذا الحرف بالكلمة\n",
        "s = input('Enter a string  ')\n",
        "char = input('Enter a character  ')\n",
        "count = 0\n",
        "\n",
        "for i in s :\n",
        "  if i == char :\n",
        "    count +=1\n",
        "\n",
        "print('The number of occurrences of ',char , ' = ' ,count)"
      ],
      "execution_count": 2,
      "outputs": [
        {
          "output_type": "stream",
          "name": "stdout",
          "text": [
            "Enter a string  fatoom\n",
            "Enter a character  x\n",
            "The number of occurrences of  x  =  0\n"
          ]
        }
      ]
    },
    {
      "cell_type": "code",
      "metadata": {
        "id": "AQoWwuwqeHzD",
        "colab": {
          "base_uri": "https://localhost:8080/"
        },
        "outputId": "d9d21536-b0e5-45d8-d9fe-d9d817f02d62"
      },
      "source": [
        "''' Write a Python program to get a string made of the first 2 and the last 2 chars\n",
        " from a given string. If the string length is less than 2, return empty string '''\n",
        "# إذا كانت أحرف الكلمة مكونة من أكتر من 3 أحرف بخلي أول حرفين وآخر حرفين وبشيل يلي بالنص\n",
        "#إذا كانت أحرف الكلمة عبارة عن 3 أحرف بعمل دبل للحرف يلي بالنص وإذا كانوا حرفين بعمل دبل للحرفين\n",
        "s = input('Enter a string  ')\n",
        "if len(s) >= 2 :\n",
        "  s = s[:2] + s[len(s)-2 : len(s)]\n",
        "else:\n",
        "  s = ''\n",
        "\n",
        "print(s)"
      ],
      "execution_count": 11,
      "outputs": [
        {
          "output_type": "stream",
          "name": "stdout",
          "text": [
            "Enter a string  fdf\n",
            "fddf\n"
          ]
        }
      ]
    },
    {
      "cell_type": "code",
      "metadata": {
        "id": "ls7sVK-JfvmL",
        "colab": {
          "base_uri": "https://localhost:8080/"
        },
        "outputId": "c3a69a2b-b1af-4fbc-bffa-c7932206f9f3"
      },
      "source": [
        "''' Write a Python program to get a single string from two given strings,\n",
        "    separated by a space and swap the first two characters of each string '''\n",
        "#منكتب كلمتين بشيل من الكلمة الأولى أول حرفين وبحطهم مكان أول حرفين بالكلمة التانية وأول حرفين من الكلمة التانية بحطهم مكان أول حرفين بالكلمة الأولى\n",
        "str1 = input('Enter a string  ')\n",
        "str2 = input('Enter a string  ')\n",
        "\n",
        "s = str2[:2]+str1[2:] + ' ' + str1[:2]+str2[2:]\n",
        "print(s)"
      ],
      "execution_count": 13,
      "outputs": [
        {
          "output_type": "stream",
          "name": "stdout",
          "text": [
            "Enter a string  Fatima\n",
            "Enter a string  Subhi\n",
            "Sutima Fabhi\n"
          ]
        }
      ]
    },
    {
      "cell_type": "code",
      "metadata": {
        "id": "lo8ry009hDc9",
        "colab": {
          "base_uri": "https://localhost:8080/"
        },
        "outputId": "d662541c-a998-40af-fd7c-beeeb9d82c0c"
      },
      "source": [
        "# Write a Python program to remove the characters which have odd index values of a given string.\n",
        "#بشيل الأحرف يلي الاندكس تبعهم فردي\n",
        "s = input('Enter a string  ')\n",
        "\n",
        "newstr = ''\n",
        "for i in range(len(s)):\n",
        "  if i % 2 == 0 :\n",
        "    newstr += s[i]\n",
        "\n",
        "print(newstr)"
      ],
      "execution_count": 18,
      "outputs": [
        {
          "output_type": "stream",
          "name": "stdout",
          "text": [
            "Enter a string  fatoom\n",
            "fto\n"
          ]
        }
      ]
    },
    {
      "cell_type": "code",
      "metadata": {
        "id": "aaC1NGuMinll",
        "colab": {
          "base_uri": "https://localhost:8080/"
        },
        "outputId": "00f65cd6-8d0c-4bfc-a338-962644fad013"
      },
      "source": [
        "''' Write a Python program to add 'ing' at the end of a given string (length should be at least 3).\n",
        "    If the given string already ends with 'ing' then add 'ly' instead.\n",
        "    If the string length of the given string is less than 3, leave it unchanged '''\n",
        "\n",
        "s = input('Enter a string  ')\n",
        "\n",
        "l = int(len(s))\n",
        "if len(s) < 3 :\n",
        "  pass\n",
        "elif s[-3:] == 'ing':\n",
        "  s = s + 'ly'\n",
        "else :\n",
        "  s = s + 'ing'\n",
        "\n",
        "print(s)"
      ],
      "execution_count": 24,
      "outputs": [
        {
          "output_type": "stream",
          "name": "stdout",
          "text": [
            "Enter a string  sosing\n",
            "sosingly\n"
          ]
        }
      ]
    },
    {
      "cell_type": "code",
      "metadata": {
        "id": "vhcWnbkPpsNn",
        "colab": {
          "base_uri": "https://localhost:8080/"
        },
        "outputId": "3c3f3b9b-30d3-4ba0-b2f2-10fc22da6c95"
      },
      "source": [
        "# Sort a list\n",
        "\n",
        "list1 = [ 10 , 15 , 8 , 7 , 2 , 1 , 101 , 6 , 0 , 88 , 19]\n",
        "list2 = []\n",
        "for i in range(len(list1)) :\n",
        "  x = min(list1)\n",
        "  y = list1.index(x)\n",
        "  list2.append(x)\n",
        "  list1.pop(y)\n",
        "print(list2)"
      ],
      "execution_count": 25,
      "outputs": [
        {
          "output_type": "stream",
          "name": "stdout",
          "text": [
            "[0, 1, 2, 6, 7, 8, 10, 15, 19, 88, 101]\n"
          ]
        }
      ]
    },
    {
      "cell_type": "code",
      "source": [
        "''' Write a python fucntion to return how many upper case letters and lower case letters in a string :\n",
        "example \"Machine Learning\" => {'upper':2, 'lower':13} '''\n",
        "\n",
        "string = input('Enter a string ')\n",
        "def upper (string) :\n",
        "\n",
        "  lower = 0\n",
        "  upper = 0\n",
        "\n",
        "  for i in string :\n",
        "    if i.isupper() :\n",
        "      upper += 1\n",
        "    elif i.islower() :\n",
        "      lower += 1\n",
        "  print(\"Number of upper cases = \", upper)\n",
        "  print(\"Number of lower cases = \", lower)\n",
        "\n",
        "upper(string)"
      ],
      "metadata": {
        "id": "elHlxfEe7tES",
        "colab": {
          "base_uri": "https://localhost:8080/"
        },
        "outputId": "1d671444-5a04-4424-9967-22c976226cc6"
      },
      "execution_count": 26,
      "outputs": [
        {
          "output_type": "stream",
          "name": "stdout",
          "text": [
            "Enter a string Fatima Subhi\n",
            "Number of upper cases =  2\n",
            "Number of lower cases =  9\n"
          ]
        }
      ]
    },
    {
      "cell_type": "code",
      "source": [
        "# Write a python function that takes a number and returns if number is prime or not    (إذا كان عدد أولي أو لا)\n",
        "\n",
        "num = int(input(' Enter an Integer   '))\n",
        "\n",
        "def isprime (num) :\n",
        "  isprime = True\n",
        "  if num > 1:\n",
        "     for i in range(2, num//2):\n",
        "       if (num % i) == 0:\n",
        "          isprime = False\n",
        "          break\n",
        "  else:\n",
        "    isprime = False\n",
        "\n",
        "  if isprime :\n",
        "    print(num, \"is a prime number\")\n",
        "  else :\n",
        "    print(num, \"is not a prime number\")\n",
        "\n",
        "isprime(num)"
      ],
      "metadata": {
        "id": "t7ha6HBG7wn0",
        "colab": {
          "base_uri": "https://localhost:8080/"
        },
        "outputId": "90a1356a-434e-4cd5-b8a0-723fcf463469"
      },
      "execution_count": 36,
      "outputs": [
        {
          "output_type": "stream",
          "name": "stdout",
          "text": [
            " Enter an Integer   7\n",
            "7 is a prime number\n"
          ]
        }
      ]
    },
    {
      "cell_type": "code",
      "source": [
        "# Write a python funtion to return a list of even numbers between 0 and n\n",
        "\n",
        "n = int(input(' Enter an Integer   '))\n",
        "def evenNumbers(n) :\n",
        "  lis = []\n",
        "  for i in range(0,n,2) :    #يبدأ من 0 والفرق بين كل رقمين 2\n",
        "    lis.append(i)\n",
        "\n",
        "  print(lis)\n",
        "\n",
        "evenNumbers(n)"
      ],
      "metadata": {
        "id": "jSHpQvRn70eD",
        "colab": {
          "base_uri": "https://localhost:8080/"
        },
        "outputId": "989c5c96-d844-437b-a68c-ece0911aef34"
      },
      "execution_count": 40,
      "outputs": [
        {
          "output_type": "stream",
          "name": "stdout",
          "text": [
            " Enter an Integer   40\n",
            "[0, 2, 4, 6, 8, 10, 12, 14, 16, 18, 20, 22, 24, 26, 28, 30, 32, 34, 36, 38]\n"
          ]
        }
      ]
    },
    {
      "cell_type": "code",
      "source": [
        "# Write a python function to return minimum number in a list ( dont use min function)\n",
        "\n",
        "lis = [1 , 10 , 40 , 12 , 16 , 17 , 9 , 5 , 7 , 0 , -1]\n",
        "def min(lis) :\n",
        "    min = lis[0]\n",
        "    for i in range(1,len(lis)) :\n",
        "        if lis[i] < min :\n",
        "            min = lis[i]\n",
        "\n",
        "    print(' The minimum value is :  ' ,min)\n",
        "\n",
        "min(lis)"
      ],
      "metadata": {
        "id": "gkmjeOZr78mO",
        "colab": {
          "base_uri": "https://localhost:8080/"
        },
        "outputId": "b9cd2897-0d11-4048-eb83-6b31714e24eb"
      },
      "execution_count": 41,
      "outputs": [
        {
          "output_type": "stream",
          "name": "stdout",
          "text": [
            " The minimum value is :   -1\n"
          ]
        }
      ]
    },
    {
      "cell_type": "code",
      "source": [
        "# Write a Python function to check whether a string is a pangram or not\n",
        "# A string is a pangram string if it contains all the character of the alphabets ignoring the case of the alphabets.\n",
        "# The quick brown fox jumps over the lazy dog    هذه الجملة تحتوي على جميع الحروف الانجليزية\n",
        "def ispangram(str):\n",
        "    alphabet = \"abcdefghijklmnopqrstuvwxyz\"\n",
        "    if len(str) < 28 :\n",
        "      return False\n",
        "    else :\n",
        "      for char in alphabet:\n",
        "        if char not in str.lower():\n",
        "            return False\n",
        "\n",
        "    return True\n",
        "\n",
        "string = input('Enter a string   ')\n",
        "if(ispangram(string) == True):\n",
        "    print(\"The string is a pangram\")\n",
        "else:\n",
        "    print(\"The string is not a pangram\")"
      ],
      "metadata": {
        "id": "WLsrnoBN79DP",
        "colab": {
          "base_uri": "https://localhost:8080/"
        },
        "outputId": "ac780e43-38eb-4a96-bfec-a742f1851a42"
      },
      "execution_count": 58,
      "outputs": [
        {
          "output_type": "stream",
          "name": "stdout",
          "text": [
            "Enter a string   The quick brown fox jumps over the lazy dog\n",
            "The string is a pangram\n"
          ]
        }
      ]
    }
  ]
}