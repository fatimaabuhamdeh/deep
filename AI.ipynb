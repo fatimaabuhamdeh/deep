{
  "nbformat": 4,
  "nbformat_minor": 0,
  "metadata": {
    "colab": {
      "provenance": [],
      "authorship_tag": "ABX9TyPi2HvkBKXijGc1G831lyjn",
      "include_colab_link": true
    },
    "kernelspec": {
      "name": "python3",
      "display_name": "Python 3"
    },
    "language_info": {
      "name": "python"
    }
  },
  "cells": [
    {
      "cell_type": "markdown",
      "metadata": {
        "id": "view-in-github",
        "colab_type": "text"
      },
      "source": [
        "<a href=\"https://colab.research.google.com/github/fatimaabuhamdeh/deep/blob/main/AI.ipynb\" target=\"_parent\"><img src=\"https://colab.research.google.com/assets/colab-badge.svg\" alt=\"Open In Colab\"/></a>"
      ]
    },
    {
      "cell_type": "code",
      "execution_count": 1,
      "metadata": {
        "id": "HbeFlqJOd_CK"
      },
      "outputs": [],
      "source": [
        "import pandas as pd\n",
        "from sklearn.model_selection import train_test_split\n",
        "from sklearn.ensemble import RandomForestClassifier, AdaBoostClassifier\n",
        "from imblearn.under_sampling import RandomUnderSampler\n",
        "from imblearn.over_sampling import RandomOverSampler\n",
        "from imblearn.metrics import classification_report_imbalanced\n",
        "from sklearn.metrics import accuracy_score, precision_score, recall_score, f1_score, roc_auc_score"
      ]
    },
    {
      "cell_type": "code",
      "source": [
        "# Load the dataset\n",
        "data = pd.read_csv(\"/content/student_data.csv\")"
      ],
      "metadata": {
        "id": "86g-bMXLfbp-"
      },
      "execution_count": 2,
      "outputs": []
    },
    {
      "cell_type": "code",
      "source": [
        "# Preprocessing: Encode categorical variables if present\n",
        "data = pd.get_dummies(data)\n",
        "\n",
        "# Separate features and target variable\n",
        "X = data.drop('G3', axis=1)  # Replace 'target_variable_column_name' with your target column\n",
        "y = data['G3']"
      ],
      "metadata": {
        "id": "Z_XW4urZfj6K"
      },
      "execution_count": 14,
      "outputs": []
    },
    {
      "cell_type": "code",
      "source": [
        "# Split the data into training and testing sets\n",
        "X_train, X_test, y_train, y_test = train_test_split(X, y, test_size=0.2, random_state=42)\n",
        "\n",
        "# Apply resampling: undersampling\n",
        "undersampler = RandomUnderSampler(random_state=42)\n",
        "X_resampled_under, y_resampled_under = undersampler.fit_resample(X_train, y_train)\n",
        "\n",
        "# Apply resampling: oversampling\n",
        "oversampler = RandomOverSampler(random_state=42)\n",
        "X_resampled_over, y_resampled_over = oversampler.fit_resample(X_train, y_train)"
      ],
      "metadata": {
        "id": "qb3O4CZxf58j"
      },
      "execution_count": 15,
      "outputs": []
    },
    {
      "cell_type": "code",
      "source": [
        "# Function to train and evaluate model\n",
        "def train_evaluate_model(X_train, y_train, X_test, y_test, model):\n",
        "    model.fit(X_train, y_train)\n",
        "    y_pred = model.predict(X_test)\n",
        "    accuracy = accuracy_score(y_test, y_pred)\n",
        "    precision = precision_score(y_test, y_pred, average='weighted')\n",
        "    recall = recall_score(y_test, y_pred, average='weighted')\n",
        "    f1 = f1_score(y_test, y_pred, average='weighted')\n",
        "    # For multi-class classification, AUC is not directly supported\n",
        "    auc = None\n",
        "    return accuracy, precision, recall, f1, auc"
      ],
      "metadata": {
        "id": "iPqQhs8zgHjp"
      },
      "execution_count": 17,
      "outputs": []
    },
    {
      "cell_type": "code",
      "source": [
        "# Initialize ensemble models\n",
        "bagging_model = RandomForestClassifier(random_state=42)\n",
        "boosting_model = AdaBoostClassifier(random_state=42)"
      ],
      "metadata": {
        "id": "inzbvHikgO0p"
      },
      "execution_count": 18,
      "outputs": []
    },
    {
      "cell_type": "code",
      "source": [
        "# Train and evaluate models on original data\n",
        "accuracy_bagging, precision_bagging, recall_bagging, f1_bagging, auc_bagging = train_evaluate_model(X_train, y_train, X_test, y_test, bagging_model)\n",
        "accuracy_boosting, precision_boosting, recall_boosting, f1_boosting, auc_boosting = train_evaluate_model(X_train, y_train, X_test, y_test, boosting_model)"
      ],
      "metadata": {
        "colab": {
          "base_uri": "https://localhost:8080/",
          "height": 0
        },
        "id": "FgnQTIAPiXJm",
        "outputId": "216fe77c-c165-4f17-f663-89c432bc83eb"
      },
      "execution_count": 19,
      "outputs": [
        {
          "output_type": "stream",
          "name": "stderr",
          "text": [
            "/usr/local/lib/python3.10/dist-packages/sklearn/metrics/_classification.py:1344: UndefinedMetricWarning: Precision is ill-defined and being set to 0.0 in labels with no predicted samples. Use `zero_division` parameter to control this behavior.\n",
            "  _warn_prf(average, modifier, msg_start, len(result))\n",
            "/usr/local/lib/python3.10/dist-packages/sklearn/metrics/_classification.py:1344: UndefinedMetricWarning: Precision is ill-defined and being set to 0.0 in labels with no predicted samples. Use `zero_division` parameter to control this behavior.\n",
            "  _warn_prf(average, modifier, msg_start, len(result))\n",
            "/usr/local/lib/python3.10/dist-packages/sklearn/metrics/_classification.py:1344: UndefinedMetricWarning: Recall is ill-defined and being set to 0.0 in labels with no true samples. Use `zero_division` parameter to control this behavior.\n",
            "  _warn_prf(average, modifier, msg_start, len(result))\n"
          ]
        }
      ]
    },
    {
      "cell_type": "code",
      "source": [
        "# Print evaluation metrics for models on original data\n",
        "print(\"Metrics for Bagging Model (Original Data):\")\n",
        "print(f\"Accuracy: {accuracy_bagging:.4f}, Precision: {precision_bagging:.4f}, Recall: {recall_bagging:.4f}, F1-score: {f1_bagging:.4f}\")\n",
        "\n",
        "print(\"\\nMetrics for Boosting Model (Original Data):\")\n",
        "print(f\"Accuracy: {accuracy_boosting:.4f}, Precision: {precision_boosting:.4f}, Recall: {recall_boosting:.4f}, F1-score: {f1_boosting:.4f}\")"
      ],
      "metadata": {
        "colab": {
          "base_uri": "https://localhost:8080/",
          "height": 0
        },
        "id": "c3PBI-MRivXH",
        "outputId": "6f16f09f-3244-4b9d-d2ee-1d3c55352d0d"
      },
      "execution_count": 20,
      "outputs": [
        {
          "output_type": "stream",
          "name": "stdout",
          "text": [
            "Metrics for Bagging Model (Original Data):\n",
            "Accuracy: 0.3165, Precision: 0.2881, Recall: 0.3165, F1-score: 0.2776\n",
            "\n",
            "Metrics for Boosting Model (Original Data):\n",
            "Accuracy: 0.1772, Precision: 0.0406, Recall: 0.1772, F1-score: 0.0635\n"
          ]
        }
      ]
    },
    {
      "cell_type": "code",
      "source": [
        "optimized_bagging_model = RandomForestClassifier(n_estimators=100, max_depth=10, random_state=42)  # Example hyperparameters, replace with tuned values\n",
        "optimized_boosting_model = AdaBoostClassifier(n_estimators=100, learning_rate=0.1, random_state=42)  # Example hyperparameters, replace with tuned values"
      ],
      "metadata": {
        "id": "6H2016e_iy2F"
      },
      "execution_count": 21,
      "outputs": []
    },
    {
      "cell_type": "code",
      "source": [
        "# Train optimized models\n",
        "optimized_accuracy_bagging, optimized_precision_bagging, optimized_recall_bagging, optimized_f1_bagging, optimized_auc_bagging = train_evaluate_model(X_train, y_train, X_test, y_test, optimized_bagging_model)\n",
        "optimized_accuracy_boosting, optimized_precision_boosting, optimized_recall_boosting, optimized_f1_boosting, optimized_auc_boosting = train_evaluate_model(X_train, y_train, X_test, y_test, optimized_boosting_model)"
      ],
      "metadata": {
        "colab": {
          "base_uri": "https://localhost:8080/",
          "height": 0
        },
        "id": "ZMusb9vji_8T",
        "outputId": "044f8596-8ea7-416a-8051-8518f9c36763"
      },
      "execution_count": 22,
      "outputs": [
        {
          "output_type": "stream",
          "name": "stderr",
          "text": [
            "/usr/local/lib/python3.10/dist-packages/sklearn/metrics/_classification.py:1344: UndefinedMetricWarning: Precision is ill-defined and being set to 0.0 in labels with no predicted samples. Use `zero_division` parameter to control this behavior.\n",
            "  _warn_prf(average, modifier, msg_start, len(result))\n",
            "/usr/local/lib/python3.10/dist-packages/sklearn/metrics/_classification.py:1344: UndefinedMetricWarning: Precision is ill-defined and being set to 0.0 in labels with no predicted samples. Use `zero_division` parameter to control this behavior.\n",
            "  _warn_prf(average, modifier, msg_start, len(result))\n"
          ]
        }
      ]
    },
    {
      "cell_type": "code",
      "source": [
        "# Print evaluation metrics for optimized models\n",
        "print(\"\\nMetrics for Optimized Bagging Model:\")\n",
        "print(f\"Accuracy: {optimized_accuracy_bagging:.4f}, Precision: {optimized_precision_bagging:.4f}, Recall: {optimized_recall_bagging:.4f}, F1-score: {optimized_f1_bagging:.4f}\")\n",
        "\n",
        "print(\"\\nMetrics for Optimized Boosting Model:\")\n",
        "print(f\"Accuracy: {optimized_accuracy_boosting:.4f}, Precision: {optimized_precision_boosting:.4f}, Recall: {optimized_recall_boosting:.4f}, F1-score: {optimized_f1_boosting:.4f}\")"
      ],
      "metadata": {
        "colab": {
          "base_uri": "https://localhost:8080/",
          "height": 0
        },
        "id": "u1gtXL1BjEsb",
        "outputId": "8fbfa0cb-d9c2-40ee-de71-d22acf1e3305"
      },
      "execution_count": 23,
      "outputs": [
        {
          "output_type": "stream",
          "name": "stdout",
          "text": [
            "\n",
            "Metrics for Optimized Bagging Model:\n",
            "Accuracy: 0.3671, Precision: 0.3622, Recall: 0.3671, F1-score: 0.3058\n",
            "\n",
            "Metrics for Optimized Boosting Model:\n",
            "Accuracy: 0.2025, Precision: 0.1261, Recall: 0.2025, F1-score: 0.1305\n"
          ]
        }
      ]
    }
  ]
}