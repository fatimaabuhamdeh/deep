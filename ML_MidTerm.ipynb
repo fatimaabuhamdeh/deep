{
  "nbformat": 4,
  "nbformat_minor": 0,
  "metadata": {
    "colab": {
      "provenance": [],
      "include_colab_link": true
    },
    "kernelspec": {
      "name": "python3",
      "display_name": "Python 3"
    },
    "language_info": {
      "name": "python"
    }
  },
  "cells": [
    {
      "cell_type": "markdown",
      "metadata": {
        "id": "view-in-github",
        "colab_type": "text"
      },
      "source": [
        "<a href=\"https://colab.research.google.com/github/fatimaabuhamdeh/deep/blob/main/ML_MidTerm.ipynb\" target=\"_parent\"><img src=\"https://colab.research.google.com/assets/colab-badge.svg\" alt=\"Open In Colab\"/></a>"
      ]
    },
    {
      "cell_type": "code",
      "execution_count": null,
      "metadata": {
        "id": "ExbMWxNl-9WS"
      },
      "outputs": [],
      "source": [
        "'''\n",
        "This is an open-book exam.\n",
        "You can use Internet or Our Lab's Lectures code but you are not allowed to use any AI Tools\n",
        "If you use any AI Tools you will get 0 out of 30.\n",
        "The exam consists of (2) questions. Each question has its own weight in the evaluation.\n",
        "The total grades for the exam are (30).\n",
        "Read each question carefully before start writing the code\n",
        "You have (60) minutes to complete the exam.\n",
        "When you finish the Code, you must submit it on elearning.\n",
        "I will discuss your answers with you, so you need to understand each line of code in your answer\n",
        "'''"
      ]
    },
    {
      "cell_type": "code",
      "source": [
        "import numpy as np\n",
        "import matplotlib.pyplot as plt\n",
        "import pandas as pd\n"
      ],
      "metadata": {
        "id": "bU_l9y7VAnua"
      },
      "execution_count": null,
      "outputs": []
    },
    {
      "cell_type": "code",
      "source": [
        "## Question 1 part 1\n",
        "\n",
        "## Question 1.1 :\n",
        "\n",
        "# Download dataset from : https://drive.google.com/file/d/1tJvS4zdi4ipAWQ4zj0Nkk5mw2uMGJ6aZ/view?usp=sharing\n",
        "# import it into the colab\n",
        "# Read the dataset and save it into dataframe\n",
        "\n",
        "\n",
        "\n",
        "## Question 1.2 : print the number of duplicated rows in the dataframe then remove the duplicate records\n",
        "\n",
        "\n",
        "\n",
        "## Question 1.3 : print the dataset information that shows the coloumns in dataset, ...\n",
        "## number of non-null values in each coloumn and the data type of each coloumn\n",
        "\n",
        "\n",
        "## Handling the missing values\n",
        "\n",
        "## Question 1.4 Show the number of Null values in each coloumn\n",
        "\n",
        "\n",
        "## Question 1.5 Fill the 'Annual Income' coloumn  using the Mean technique for the column\n",
        "\n",
        "\n",
        "## Question 1.6 Fill the 'Spending Score' coloumn using Forward fill technique\n",
        "\n"
      ],
      "metadata": {
        "id": "U6TJpdLyKQBj"
      },
      "execution_count": null,
      "outputs": []
    },
    {
      "cell_type": "code",
      "source": [
        "## Question 1 part 2\n",
        "\n",
        "## Question 1.7 (4 Marks) Fill 'Work Experience' and 'Family Size' coloumns\n",
        "## using K-Nearest Neighbors (KNN) technique\n",
        "## then display the dataframe and number of null values in each column\n"
      ],
      "metadata": {
        "id": "ffDT5d08N6ID"
      },
      "execution_count": null,
      "outputs": []
    },
    {
      "cell_type": "code",
      "source": [
        "## Question 1 part 3\n",
        "\n",
        "\n",
        "## Question 1.8 Drop the rows with null values then check the dataframe again\n",
        "## if no column has Null value so you are on the rigth way\n",
        "\n",
        "\n",
        "## Question 1.9 Use One-hot encoding to encode 'Profession' column\n",
        "\n",
        "\n",
        "\n",
        "\n",
        "## Question 1.10 Use Label Incoding to encode 'Gender' column\n",
        "## then print the first 10 rows of the dataframe\n",
        "\n",
        "\n",
        "\n",
        "## Question 1.11 Normalize the 'Age' column using MinMaxScaler\n",
        "\n",
        "\n",
        "\n",
        "## Question 1.12 Normalize the 'Spending Score' column using Z-Score (Standardization)\n",
        "\n",
        "\n",
        "\n",
        "\n",
        "# Display the first 10 rows of the DataFrame after Normalization\n",
        "\n",
        "\n"
      ],
      "metadata": {
        "id": "gMezuuV3rNgJ"
      },
      "execution_count": null,
      "outputs": []
    },
    {
      "cell_type": "code",
      "source": [
        "## Ending of Question 1"
      ],
      "metadata": {
        "id": "nKpaBt1QtzTW"
      },
      "execution_count": null,
      "outputs": []
    },
    {
      "cell_type": "code",
      "source": [
        "## Question 2 (15 Marks)\n",
        "\n",
        "## Part 1\n",
        "\n",
        "## Question 2.1 (2 Marks) Load 'fetch_openml' dataset to a pandas dataframe use sklearn dataset library\n",
        "## then Print the first few rows of the DataFrame\n",
        "## Use name = 'sonar' for the dataset\n",
        "\n",
        "\n",
        "## Question 2.2 (2 Marks) Save the fetures into X variable and the label in y variable\n",
        "## Then Split the data into Traing and Testing\n",
        "## The dataset already processed so no need to apply any preprocessing technique\n",
        "\n"
      ],
      "metadata": {
        "id": "DVazkTCIvASy"
      },
      "execution_count": null,
      "outputs": []
    },
    {
      "cell_type": "code",
      "source": [
        "## Question 2 part 2\n",
        "\n",
        "## Question 2.3 (2 Marks) Build a Logistic Regression model then train the model using the training data\n",
        "\n",
        "\n",
        "\n",
        "## Question 2.4 (2 Marks) Build a Decision tree using the same trainig data\n",
        "\n",
        "\n",
        "\n",
        "## Question 2.5 (2 Marks) Create an SVM classifier using the same trainig data\n",
        "\n",
        "\n",
        "\n",
        "## Question 2.6 (2 Marks) Create a Random Forest Classifier using the same training data\n",
        "\n",
        "\n"
      ],
      "metadata": {
        "id": "xnf1i0ThxvzL"
      },
      "execution_count": null,
      "outputs": []
    },
    {
      "cell_type": "code",
      "source": [
        "## Question 2 part 3\n",
        "\n",
        "## Question 2.7 ( 3 Marks ) Evaluate the three Trained models \\\n",
        "\"Logestic regression, Decision Tree, SVM and Random Forest\"\n",
        "## Use the Testing dataset\n",
        "## Print the accurices then plot the accuracies of the four models\n",
        "\n",
        "\n",
        "\n"
      ],
      "metadata": {
        "id": "_PVTeAPe0vXS"
      },
      "execution_count": null,
      "outputs": []
    }
  ]
}